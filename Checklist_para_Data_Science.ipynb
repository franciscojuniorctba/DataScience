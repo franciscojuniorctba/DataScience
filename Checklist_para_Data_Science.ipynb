{
  "nbformat": 4,
  "nbformat_minor": 0,
  "metadata": {
    "kernelspec": {
      "display_name": "Python 3",
      "language": "python",
      "name": "python3"
    },
    "language_info": {
      "codemirror_mode": {
        "name": "ipython",
        "version": 3
      },
      "file_extension": ".py",
      "mimetype": "text/x-python",
      "name": "python",
      "nbconvert_exporter": "python",
      "pygments_lexer": "ipython3",
      "version": "3.7.3"
    },
    "colab": {
      "name": "Checklist para Data Science.ipynb",
      "provenance": [],
      "include_colab_link": true
    }
  },
  "cells": [
    {
      "cell_type": "markdown",
      "metadata": {
        "id": "view-in-github",
        "colab_type": "text"
      },
      "source": [
        "<a href=\"https://colab.research.google.com/github/franciscojuniorctba/DataScience/blob/master/Checklist_para_Data_Science.ipynb\" target=\"_parent\"><img src=\"https://colab.research.google.com/assets/colab-badge.svg\" alt=\"Open In Colab\"/></a>"
      ]
    },
    {
      "cell_type": "markdown",
      "metadata": {
        "id": "ldvK782aUk8Z"
      },
      "source": [
        "<img alt=\"Colaboratory logo\" width=\"15%\" src=\"https://raw.githubusercontent.com/carlosfab/escola-data-science/master/img/novo_logo_bg_claro.png\">\n",
        "\n",
        "#### **Data Science na Prática 2.0**\n",
        "*by [sigmoidal.ai](https://sigmoidal.ai)*\n",
        "\n",
        "---\n",
        "\n",
        "<h1>Checklist para Projetos de Data Science</h1>\n",
        "\n",
        "Checklist para aplicar aos seus projetos de Data Science. Baseado nos *frameworks* CRISP-DM e na metodologia proposta por Aurélien Géron, esta é a rotina que se adequa à maior parte dos meu projetos de Data Science.\n",
        "\n",
        "Lembre-se que não é um *checklist* rígido ou imutável. Pelo contrário!\n",
        "\n",
        "Este é um guia para você não sair do zero. Você pode (e deve) adaptar ele a sua realidade quando trabalhando em um projeto de Ciência de Dados."
      ]
    },
    {
      "cell_type": "markdown",
      "metadata": {
        "id": "NE5YZCJUUk8c"
      },
      "source": [
        "## 1. Entender o Problema\n",
        "\n",
        "* Olhar o todo e delimitar o escopo do projeto\n",
        "* Como a solução vai ser usada?\n",
        "* Quais são as soluções já existentes?\n",
        "* Qual abordagem usar?\n",
        "    * Aprendizado Supervisionado\n",
        "    * Aprendizado Não Supervisionado\n",
        "    * Aprendizado Por Reforço\n",
        "* Qual é a métrica de performance?\n",
        "* Qual a performance mínima esperada para atingir o objetivo?\n",
        "* Liste as premissas básicas do projeto"
      ]
    },
    {
      "cell_type": "markdown",
      "metadata": {
        "id": "8npIUavTUk8d"
      },
      "source": [
        "## 2. Explorar os Dados\n",
        "\n",
        "* Criar uma cópia dos dados para a exploração\n",
        "* Criar um Jupyter Notebook para documentar a exploração\n",
        "* Estudar cada atributo e suas características:\n",
        "    * Nome\n",
        "    * Tipo\n",
        "        * Categórica\n",
        "        * Numérica\n",
        "            * int\n",
        "            * float\n",
        "        * Estruturada\n",
        "        * Não Estruturada\n",
        "        * etc\n",
        "    * % de valores ausentes\n",
        "    * Ruído nos dados e tipo de ruído (outliers, estocásticos, erros de arredondamento)\n",
        "    * Tipo de distribuição\n",
        "        * Gaussiana\n",
        "        * Uniforme\n",
        "        * Logarítmica\n",
        "        * etc\n",
        "* Identificar a variável alvo (target)\n",
        "* Visualizar os dados\n",
        "* Estudar a correlação entre os dados\n",
        "* Identificar as transformações que podem ser aplicadas\n",
        "* Identificar os dados extras que podem ser úteis"
      ]
    },
    {
      "cell_type": "markdown",
      "metadata": {
        "id": "vPIaW3S9Uk8d"
      },
      "source": [
        "## 3. Preparar os Dados\n",
        "\n",
        "* Trabalhar em cópias dos dados\n",
        "* Escrever funções para todas as transformações\n",
        "\n",
        "\n",
        "1. Limpeza dos Dados\n",
        "    * Consertar ou remover outliers\n",
        "    * Preencher os valores faltantes ou eliminar as linhas/colunas\n",
        "        * Zero\n",
        "        * Média\n",
        "        * Mediana\n",
        "        * etc\n",
        "2. Seleção de atributos\n",
        "    * Eliminar os atributos (*features*) que não contêm informações úteis\n",
        "\n",
        "3. *Feature Engineering*\n",
        "    * Discretizar variáveis contínuas\n",
        "    * Decompor *features* (categóricas, data, tempo)\n",
        "    * Aplicar transformações às variáveis\n",
        "    * Agregar *features* para gerar novas\n",
        "    \n",
        "4. *Feature Scaling*\n",
        "    * Normalizar ou padronizar *features*\n",
        "    "
      ]
    },
    {
      "cell_type": "markdown",
      "metadata": {
        "id": "mnMOmYx1Uk8e"
      },
      "source": [
        "## 4. Construção do Modelo\n",
        "\n",
        "* Automatizar o maior número de passos possíveis\n",
        "* Treinar mais de um modelo e comparar as performances\n",
        "* Analisar as variáveis mais significativas para cada algoritmo\n",
        "* *Fine-Tune* dos *hyperparameters*\n",
        "* Uso de *cross-validation*\n",
        "* Verificar o desempenho dos métodos *Ensemble*, combinando os modelos que tiveram os melhores desempenhos individuais\n",
        "* Testar o desempenho do mesmo com o *dataset* de teste."
      ]
    },
    {
      "cell_type": "markdown",
      "metadata": {
        "id": "e1lxOszTUk8f"
      },
      "source": [
        "## 5. Apresentação da Solução e Deploy\n",
        "\n",
        "* Documentar todos as etapas\n",
        "* Tornar todos os passos replicáveis (download de arquivos, uso da API do Kaggle)\n",
        "* Lembrar do Storytelling\n",
        "    * Decisores e Diretores provavelmente desconhecem a parte técnica\n",
        "* Ver qual o melhor gráfico para contar cada *insight* descoberto\n",
        "* Escrever testes unitários\n",
        "* Criar rotinas de monitoramento e alertas\n",
        "* Determinar quando atualizar o modelo"
      ]
    }
  ]
}